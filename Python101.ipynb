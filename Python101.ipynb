{
  "nbformat": 4,
  "nbformat_minor": 0,
  "metadata": {
    "colab": {
      "name": "Python101.ipynb",
      "provenance": [],
      "authorship_tag": "ABX9TyMytMOvmBavwKVbawgHPj2Y",
      "include_colab_link": true
    },
    "kernelspec": {
      "name": "python3",
      "display_name": "Python 3"
    }
  },
  "cells": [
    {
      "cell_type": "markdown",
      "metadata": {
        "id": "view-in-github",
        "colab_type": "text"
      },
      "source": [
        "<a href=\"https://colab.research.google.com/github/paweenatoei/data_viz/blob/main/Python101.ipynb\" target=\"_parent\"><img src=\"https://colab.research.google.com/assets/colab-badge.svg\" alt=\"Open In Colab\"/></a>"
      ]
    },
    {
      "cell_type": "markdown",
      "metadata": {
        "id": "77-BDX57VhrT"
      },
      "source": [
        "# **Variables**"
      ]
    },
    {
      "cell_type": "code",
      "metadata": {
        "colab": {
          "base_uri": "https://localhost:8080/"
        },
        "id": "PXBJtP7KUqdI",
        "outputId": "9622d2dd-16cf-4e69-acb3-f1e7df2a28b4"
      },
      "source": [
        "3.14159265359"
      ],
      "execution_count": 1,
      "outputs": [
        {
          "output_type": "execute_result",
          "data": {
            "text/plain": [
              "3.14159265359"
            ]
          },
          "metadata": {
            "tags": []
          },
          "execution_count": 1
        }
      ]
    },
    {
      "cell_type": "markdown",
      "metadata": {
        "id": "S3TSug35ooWL"
      },
      "source": [
        "หลักการตั้งชื่อตัวแปรเบื้องต้น\r\n",
        "\r\n",
        "1.   ตั้งให้สื่อความหมาย\r\n",
        "2.   ใช้ภาษาอังกฤษ\r\n",
        "3.   ใช้ตัวเลขได้ แต่ห้ามใช้ตัวเลขขึ้นต้น\r\n",
        "4.   ห้ามเว้นวรรค\r\n",
        "\r\n",
        "\r\n",
        "\r\n",
        "\r\n",
        "\r\n",
        "\r\n",
        "\r\n",
        "\r\n",
        "\r\n",
        "\r\n",
        "\r\n",
        "\r\n",
        "\r\n",
        "\r\n",
        "\r\n",
        "\r\n",
        "\r\n",
        "\r\n"
      ]
    },
    {
      "cell_type": "code",
      "metadata": {
        "id": "AaG2AvpCVgu2"
      },
      "source": [
        "pi = 3.14159265359"
      ],
      "execution_count": 2,
      "outputs": []
    },
    {
      "cell_type": "code",
      "metadata": {
        "colab": {
          "base_uri": "https://localhost:8080/"
        },
        "id": "Ad63-kSyuVo-",
        "outputId": "d56a5b2b-0145-4ce0-bd7f-fec2f753b9cc"
      },
      "source": [
        "pi"
      ],
      "execution_count": 3,
      "outputs": [
        {
          "output_type": "execute_result",
          "data": {
            "text/plain": [
              "3.14159265359"
            ]
          },
          "metadata": {
            "tags": []
          },
          "execution_count": 3
        }
      ]
    },
    {
      "cell_type": "markdown",
      "metadata": {
        "id": "PaQYzHhku42P"
      },
      "source": [
        "**int : จำนวนเต็ม**"
      ]
    },
    {
      "cell_type": "code",
      "metadata": {
        "id": "MtRStlPQvTCk"
      },
      "source": [
        "a = 10"
      ],
      "execution_count": 4,
      "outputs": []
    },
    {
      "cell_type": "code",
      "metadata": {
        "colab": {
          "base_uri": "https://localhost:8080/"
        },
        "id": "p0rblYKlvcTK",
        "outputId": "224a3c4e-4387-4187-9044-f72318b2d9ca"
      },
      "source": [
        "print(a)"
      ],
      "execution_count": 5,
      "outputs": [
        {
          "output_type": "stream",
          "text": [
            "10\n"
          ],
          "name": "stdout"
        }
      ]
    },
    {
      "cell_type": "markdown",
      "metadata": {
        "id": "3ihvpu0kvkyo"
      },
      "source": [
        "**float : จำนวนจริง (ทศนิยม)**"
      ]
    },
    {
      "cell_type": "code",
      "metadata": {
        "colab": {
          "base_uri": "https://localhost:8080/"
        },
        "id": "ljiHZJnTvqD1",
        "outputId": "57dd3e50-a99c-4a83-f549-81251236fab4"
      },
      "source": [
        "b = 10.\r\n",
        "print(b)"
      ],
      "execution_count": 6,
      "outputs": [
        {
          "output_type": "stream",
          "text": [
            "10.0\n"
          ],
          "name": "stdout"
        }
      ]
    },
    {
      "cell_type": "markdown",
      "metadata": {
        "id": "H7OAzh8Ov-Pm"
      },
      "source": [
        "**ตัวอักษร (char (character)) ข้อความ (text หรือ string)**\r\n",
        "\r\n",
        ".. # hashtag, sharp ใช้สำหรับคอมเม้น"
      ]
    },
    {
      "cell_type": "code",
      "metadata": {
        "colab": {
          "base_uri": "https://localhost:8080/"
        },
        "id": "vdLXzwu2wXCR",
        "outputId": "0cb5723f-0f70-4bd7-f6b7-4164f399a091"
      },
      "source": [
        "c = 'ปวีณา'   # เป็นบอกว่าตัวแปรคือตัวอักษรหรือข้อความ ด้วยการใช้ single quote ' หรือ double quote \" ล้อมรอบ \r\n",
        "print(c)"
      ],
      "execution_count": 7,
      "outputs": [
        {
          "output_type": "stream",
          "text": [
            "ปวีณา\n"
          ],
          "name": "stdout"
        }
      ]
    },
    {
      "cell_type": "markdown",
      "metadata": {
        "id": "JSD_f9iowwzm"
      },
      "source": [
        "**ตัวเลขที่เป็น string ไม่สามารถเอามา + - x / กับตัวเลขได้**"
      ]
    }
  ]
}