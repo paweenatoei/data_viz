{
  "nbformat": 4,
  "nbformat_minor": 0,
  "metadata": {
    "colab": {
      "name": "Python101.ipynb",
      "provenance": [],
      "authorship_tag": "ABX9TyMeQ8O60CL41xj82/LXcUyk",
      "include_colab_link": true
    },
    "kernelspec": {
      "name": "python3",
      "display_name": "Python 3"
    }
  },
  "cells": [
    {
      "cell_type": "markdown",
      "metadata": {
        "id": "view-in-github",
        "colab_type": "text"
      },
      "source": [
        "<a href=\"https://colab.research.google.com/github/paweenatoei/data_viz/blob/main/Python101.ipynb\" target=\"_parent\"><img src=\"https://colab.research.google.com/assets/colab-badge.svg\" alt=\"Open In Colab\"/></a>"
      ]
    },
    {
      "cell_type": "markdown",
      "metadata": {
        "id": "77-BDX57VhrT"
      },
      "source": [
        "# **Variables**"
      ]
    },
    {
      "cell_type": "code",
      "metadata": {
        "colab": {
          "base_uri": "https://localhost:8080/"
        },
        "id": "PXBJtP7KUqdI",
        "outputId": "48f2b892-4ff4-4c65-e709-7719e3eade4e"
      },
      "source": [
        "3.14159265359"
      ],
      "execution_count": 5,
      "outputs": [
        {
          "output_type": "execute_result",
          "data": {
            "text/plain": [
              "3.14159265359"
            ]
          },
          "metadata": {
            "tags": []
          },
          "execution_count": 5
        }
      ]
    },
    {
      "cell_type": "markdown",
      "metadata": {
        "id": "S3TSug35ooWL"
      },
      "source": [
        "หลักการตั้งชื่อตัวแปรเบื้องต้น\r\n",
        "\r\n",
        "1.   ตั้งให้สื่อความหมาย\r\n",
        "2.   ใช้ภาษาอังกฤษ\r\n",
        "3.   ใช้ตัวเลขได้ แต่ห้ามใช้ตัวเลขขึ้นต้น\r\n",
        "4.   ห้ามเว้นวรรค\r\n",
        "\r\n",
        "\r\n",
        "\r\n",
        "\r\n",
        "\r\n",
        "\r\n",
        "\r\n",
        "\r\n",
        "\r\n",
        "\r\n",
        "\r\n",
        "\r\n",
        "\r\n",
        "\r\n",
        "\r\n",
        "\r\n",
        "\r\n",
        "\r\n"
      ]
    },
    {
      "cell_type": "code",
      "metadata": {
        "id": "AaG2AvpCVgu2"
      },
      "source": [
        "pi = 3.14159265359"
      ],
      "execution_count": 6,
      "outputs": []
    },
    {
      "cell_type": "code",
      "metadata": {
        "colab": {
          "base_uri": "https://localhost:8080/"
        },
        "id": "Ad63-kSyuVo-",
        "outputId": "b629f63c-744c-4fc7-86af-7bcc6b40e213"
      },
      "source": [
        "pi"
      ],
      "execution_count": 7,
      "outputs": [
        {
          "output_type": "execute_result",
          "data": {
            "text/plain": [
              "3.14159265359"
            ]
          },
          "metadata": {
            "tags": []
          },
          "execution_count": 7
        }
      ]
    },
    {
      "cell_type": "markdown",
      "metadata": {
        "id": "PaQYzHhku42P"
      },
      "source": [
        "**int : จำนวนเต็ม**"
      ]
    },
    {
      "cell_type": "code",
      "metadata": {
        "id": "MtRStlPQvTCk"
      },
      "source": [
        "a = 10"
      ],
      "execution_count": 8,
      "outputs": []
    },
    {
      "cell_type": "code",
      "metadata": {
        "colab": {
          "base_uri": "https://localhost:8080/"
        },
        "id": "p0rblYKlvcTK",
        "outputId": "45a10f5b-5f0c-4654-ee4e-80f3478cad92"
      },
      "source": [
        "print(a)"
      ],
      "execution_count": 9,
      "outputs": [
        {
          "output_type": "stream",
          "text": [
            "10\n"
          ],
          "name": "stdout"
        }
      ]
    },
    {
      "cell_type": "markdown",
      "metadata": {
        "id": "3ihvpu0kvkyo"
      },
      "source": [
        "**float : จำนวนจริง (ทศนิยม)**"
      ]
    },
    {
      "cell_type": "code",
      "metadata": {
        "colab": {
          "base_uri": "https://localhost:8080/"
        },
        "id": "ljiHZJnTvqD1",
        "outputId": "3e44b1a5-7175-44d7-d539-25ff8ca02139"
      },
      "source": [
        "b = 10.\r\n",
        "print(b)"
      ],
      "execution_count": 10,
      "outputs": [
        {
          "output_type": "stream",
          "text": [
            "10.0\n"
          ],
          "name": "stdout"
        }
      ]
    },
    {
      "cell_type": "markdown",
      "metadata": {
        "id": "H7OAzh8Ov-Pm"
      },
      "source": [
        "**ตัวอักษร (char (character)) ข้อความ (text หรือ string)**\r\n",
        "\r\n",
        ".. # hashtag, sharp ใช้สำหรับคอมเม้น"
      ]
    },
    {
      "cell_type": "code",
      "metadata": {
        "colab": {
          "base_uri": "https://localhost:8080/"
        },
        "id": "vdLXzwu2wXCR",
        "outputId": "d6a6a33f-71c8-4741-9947-9233297cd173"
      },
      "source": [
        "c = 'ปวีณา'   # เป็นบอกว่าตัวแปรคือตัวอักษรหรือข้อความ ด้วยการใช้ single quote ' หรือ double quote \" ล้อมรอบ \r\n",
        "print(c)"
      ],
      "execution_count": 11,
      "outputs": [
        {
          "output_type": "stream",
          "text": [
            "ปวีณา\n"
          ],
          "name": "stdout"
        }
      ]
    },
    {
      "cell_type": "markdown",
      "metadata": {
        "id": "JSD_f9iowwzm"
      },
      "source": [
        "**ตัวเลขที่เป็น string ไม่สามารถเอามา + - x / กับตัวเลขได้**"
      ]
    },
    {
      "cell_type": "code",
      "metadata": {
        "colab": {
          "base_uri": "https://localhost:8080/"
        },
        "id": "cfPMH7S4xA44",
        "outputId": "bb043970-9fb2-46a1-9744-bf82191dfb63"
      },
      "source": [
        "d = '10'\r\n",
        "print(d)"
      ],
      "execution_count": 12,
      "outputs": [
        {
          "output_type": "stream",
          "text": [
            "10\n"
          ],
          "name": "stdout"
        }
      ]
    },
    {
      "cell_type": "code",
      "metadata": {
        "colab": {
          "base_uri": "https://localhost:8080/",
          "height": 171
        },
        "id": "EKwsD8iNxMyK",
        "outputId": "2bcf77ba-4eb8-4cab-d50a-ed7c75f55833"
      },
      "source": [
        "d + 1 "
      ],
      "execution_count": 13,
      "outputs": [
        {
          "output_type": "error",
          "ename": "TypeError",
          "evalue": "ignored",
          "traceback": [
            "\u001b[0;31m---------------------------------------------------------------------------\u001b[0m",
            "\u001b[0;31mTypeError\u001b[0m                                 Traceback (most recent call last)",
            "\u001b[0;32m<ipython-input-13-f2c65cc21b93>\u001b[0m in \u001b[0;36m<module>\u001b[0;34m()\u001b[0m\n\u001b[0;32m----> 1\u001b[0;31m \u001b[0md\u001b[0m \u001b[0;34m+\u001b[0m \u001b[0;36m1\u001b[0m\u001b[0;34m\u001b[0m\u001b[0;34m\u001b[0m\u001b[0m\n\u001b[0m",
            "\u001b[0;31mTypeError\u001b[0m: must be str, not int"
          ]
        }
      ]
    },
    {
      "cell_type": "markdown",
      "metadata": {
        "id": "Oye0hXlzxod6"
      },
      "source": [
        "**variable casting (การเปลี่ยนชนิดของข้อมูล)**"
      ]
    },
    {
      "cell_type": "code",
      "metadata": {
        "colab": {
          "base_uri": "https://localhost:8080/"
        },
        "id": "Zcr1UuA8xqrD",
        "outputId": "0a7cf94d-4791-41a3-9a07-14cd46dfa166"
      },
      "source": [
        "int(d) + 1"
      ],
      "execution_count": 14,
      "outputs": [
        {
          "output_type": "execute_result",
          "data": {
            "text/plain": [
              "11"
            ]
          },
          "metadata": {
            "tags": []
          },
          "execution_count": 14
        }
      ]
    },
    {
      "cell_type": "code",
      "metadata": {
        "colab": {
          "base_uri": "https://localhost:8080/"
        },
        "id": "da1hXRl3xwO1",
        "outputId": "e7bc66f2-faf4-4ab1-aed6-064e6d6234ac"
      },
      "source": [
        "print(a)\r\n",
        "print(float(a))\r\n",
        "print(str(a))"
      ],
      "execution_count": 15,
      "outputs": [
        {
          "output_type": "stream",
          "text": [
            "10\n",
            "10.0\n",
            "10\n"
          ],
          "name": "stdout"
        }
      ]
    },
    {
      "cell_type": "markdown",
      "metadata": {
        "id": "OzVp-aOjyDw0"
      },
      "source": [
        "**Operation (Operators +,-,*,/,%)**"
      ]
    },
    {
      "cell_type": "code",
      "metadata": {
        "colab": {
          "base_uri": "https://localhost:8080/"
        },
        "id": "i9S2EGYgyHDV",
        "outputId": "fd37a9ca-6f72-4689-9e18-b08b1b937e11"
      },
      "source": [
        "a+b"
      ],
      "execution_count": 16,
      "outputs": [
        {
          "output_type": "execute_result",
          "data": {
            "text/plain": [
              "20.0"
            ]
          },
          "metadata": {
            "tags": []
          },
          "execution_count": 16
        }
      ]
    },
    {
      "cell_type": "code",
      "metadata": {
        "colab": {
          "base_uri": "https://localhost:8080/"
        },
        "id": "Gk69bDSiyTWo",
        "outputId": "3a6f77fb-c75f-4009-960a-49f61a3b12be"
      },
      "source": [
        "ab = a+b\r\n",
        "print(ab)"
      ],
      "execution_count": 17,
      "outputs": [
        {
          "output_type": "stream",
          "text": [
            "20.0\n"
          ],
          "name": "stdout"
        }
      ]
    },
    {
      "cell_type": "markdown",
      "metadata": {
        "id": "EO7ZxnMrybE-"
      },
      "source": [
        "**% คือหมาย modulo หรือเศษเหลือ**"
      ]
    },
    {
      "cell_type": "code",
      "metadata": {
        "colab": {
          "base_uri": "https://localhost:8080/"
        },
        "id": "sHEIjnXKyaAa",
        "outputId": "a451d55a-da67-44d6-fb82-ce393e628ef7"
      },
      "source": [
        "5%3"
      ],
      "execution_count": 18,
      "outputs": [
        {
          "output_type": "execute_result",
          "data": {
            "text/plain": [
              "2"
            ]
          },
          "metadata": {
            "tags": []
          },
          "execution_count": 18
        }
      ]
    },
    {
      "cell_type": "code",
      "metadata": {
        "colab": {
          "base_uri": "https://localhost:8080/"
        },
        "id": "ui4054fryn4L",
        "outputId": "061effd7-cc5a-420f-ee37-cd2944dd2a0e"
      },
      "source": [
        "7%3"
      ],
      "execution_count": 19,
      "outputs": [
        {
          "output_type": "execute_result",
          "data": {
            "text/plain": [
              "1"
            ]
          },
          "metadata": {
            "tags": []
          },
          "execution_count": 19
        }
      ]
    },
    {
      "cell_type": "markdown",
      "metadata": {
        "id": "pYJdv7uYyrGL"
      },
      "source": [
        "**คำสั่ง print แบบพิเศษ (การ format string)**"
      ]
    },
    {
      "cell_type": "code",
      "metadata": {
        "colab": {
          "base_uri": "https://localhost:8080/"
        },
        "id": "BEkwfW0SyxEN",
        "outputId": "9aa14292-6976-492e-f285-78cc3d449d85"
      },
      "source": [
        "print('ตัวแปร') #สิ่งที่อยู่ข้างในวงเล็บคือ ตัวแปร และ string โดยผลรันคือตัวที่อยู่ใน string"
      ],
      "execution_count": 20,
      "outputs": [
        {
          "output_type": "stream",
          "text": [
            "ตัวแปร\n"
          ],
          "name": "stdout"
        }
      ]
    },
    {
      "cell_type": "code",
      "metadata": {
        "colab": {
          "base_uri": "https://localhost:8080/"
        },
        "id": "DTah0hFJzMpJ",
        "outputId": "3f26a75d-0bea-48f0-cc38-3c568f7548fa"
      },
      "source": [
        "print(f'% คือการหารเอาเศษ เช่น 7%3 = {7%3}') # เป็นการเพิ่ม f หน้า 'string' และใช้ {} ใส่ code"
      ],
      "execution_count": 21,
      "outputs": [
        {
          "output_type": "stream",
          "text": [
            "% คือการหารเอาเศษ เช่น 7%3 = 1\n"
          ],
          "name": "stdout"
        }
      ]
    },
    {
      "cell_type": "code",
      "metadata": {
        "colab": {
          "base_uri": "https://localhost:8080/"
        },
        "id": "a_3Zizoyzdov",
        "outputId": "325d53a9-89c9-4eed-c22f-ceb40f51acd7"
      },
      "source": [
        "print(f'% คือการหารเอาเศษ เช่น 7%3 = {7%3} \\\\\r\n",
        "        แต่\\n/ คือการหารปกติ เช่น 7/3 = {7/3}  \\\\\r\n",
        "        และ\\n// คือการหารเอาส่วน เช่น 7//3 = {7//3} \\\\\r\n",
        "        หรือ\\nใช้ int() เพื่อหารเอาส่วน เช่น int(7/3) = {int(7/3)}') # \\n คือการขึ้นบรรทัดใหม่ \\\\ ใช้ในการตัด code แต่ com จะไม่เห็น"
      ],
      "execution_count": 22,
      "outputs": [
        {
          "output_type": "stream",
          "text": [
            "% คือการหารเอาเศษ เช่น 7%3 = 1 \\        แต่\n",
            "/ คือการหารปกติ เช่น 7/3 = 2.3333333333333335  \\        และ\n",
            "// คือการหารเอาส่วน เช่น 7//3 = 2 \\        หรือ\n",
            "ใช้ int() เพื่อหารเอาส่วน เช่น int(7/3) = 2\n"
          ],
          "name": "stdout"
        }
      ]
    },
    {
      "cell_type": "markdown",
      "metadata": {
        "id": "9E-ndjfQztzh"
      },
      "source": [
        "# **DATA STRUCTURE (โครงสร้างข้อมูล)**\r\n",
        "\r\n",
        "##List คือ การเอาตัวแปรหลายๆตัวมาเรียงกัน\r\n",
        "\r\n",
        "###list สามารถสร้างได้ 2แบบ ดังนี้\r\n",
        "\r\n"
      ]
    },
    {
      "cell_type": "markdown",
      "metadata": {
        "id": "9MFWEUpZzwIS"
      },
      "source": [
        "แบบที่ 1 > square brackets"
      ]
    },
    {
      "cell_type": "code",
      "metadata": {
        "colab": {
          "base_uri": "https://localhost:8080/"
        },
        "id": "8lnqmdOV0K4c",
        "outputId": "701d8136-f416-4a4b-b02a-f9eeda712467"
      },
      "source": [
        "list_a = []\r\n",
        "print(list_a)"
      ],
      "execution_count": 23,
      "outputs": [
        {
          "output_type": "stream",
          "text": [
            "[]\n"
          ],
          "name": "stdout"
        }
      ]
    },
    {
      "cell_type": "code",
      "metadata": {
        "colab": {
          "base_uri": "https://localhost:8080/"
        },
        "id": "LaoL_eXp0SYd",
        "outputId": "b30e6780-9e27-4749-f186-f370233b7c9b"
      },
      "source": [
        "list_b = [1,5,'v']\r\n",
        "print(list_b)"
      ],
      "execution_count": 24,
      "outputs": [
        {
          "output_type": "stream",
          "text": [
            "[1, 5, 'v']\n"
          ],
          "name": "stdout"
        }
      ]
    },
    {
      "cell_type": "markdown",
      "metadata": {
        "id": "N22AMDri0dIV"
      },
      "source": [
        "**ลำดับที่อยู่ใน list มีความสำคัญ (ลำดับใน list เริ่มจาก 0,1,2,...)**"
      ]
    },
    {
      "cell_type": "code",
      "metadata": {
        "colab": {
          "base_uri": "https://localhost:8080/"
        },
        "id": "qVqaqN_l0gSc",
        "outputId": "8225e75d-6008-4d48-b5ff-2340db62fc45"
      },
      "source": [
        "list_b[1]"
      ],
      "execution_count": 25,
      "outputs": [
        {
          "output_type": "execute_result",
          "data": {
            "text/plain": [
              "5"
            ]
          },
          "metadata": {
            "tags": []
          },
          "execution_count": 25
        }
      ]
    },
    {
      "cell_type": "markdown",
      "metadata": {
        "id": "28862FMd0lQM"
      },
      "source": [
        "แบบที่ 2"
      ]
    },
    {
      "cell_type": "code",
      "metadata": {
        "colab": {
          "base_uri": "https://localhost:8080/"
        },
        "id": "yCwDSyho1LoK",
        "outputId": "5bf8b9d6-2b58-4241-f832-572e8df6987f"
      },
      "source": [
        "list_c = list()\r\n",
        "print(list_c)"
      ],
      "execution_count": 26,
      "outputs": [
        {
          "output_type": "stream",
          "text": [
            "[]\n"
          ],
          "name": "stdout"
        }
      ]
    },
    {
      "cell_type": "markdown",
      "metadata": {
        "id": "Pk47LK_61U6I"
      },
      "source": [
        "**append() เป็นการเพิ่มสมาชิกใน list**"
      ]
    },
    {
      "cell_type": "code",
      "metadata": {
        "colab": {
          "base_uri": "https://localhost:8080/"
        },
        "id": "Yyz3Jbfo1YxH",
        "outputId": "26ff248b-aa59-4111-fc05-2283bf9929f2"
      },
      "source": [
        "list_b.append('u')\r\n",
        "print(list_b)"
      ],
      "execution_count": 27,
      "outputs": [
        {
          "output_type": "stream",
          "text": [
            "[1, 5, 'v', 'u']\n"
          ],
          "name": "stdout"
        }
      ]
    },
    {
      "cell_type": "code",
      "metadata": {
        "colab": {
          "base_uri": "https://localhost:8080/",
          "height": 38
        },
        "id": "fTsft90e1gAS",
        "outputId": "bff89387-c19f-4472-eac0-2334709e893a"
      },
      "source": [
        "list_b.pop() ### คือการดึงสมาชิกที่สุดท้ายออกจาก list"
      ],
      "execution_count": 28,
      "outputs": [
        {
          "output_type": "execute_result",
          "data": {
            "application/vnd.google.colaboratory.intrinsic+json": {
              "type": "string"
            },
            "text/plain": [
              "'u'"
            ]
          },
          "metadata": {
            "tags": []
          },
          "execution_count": 28
        }
      ]
    },
    {
      "cell_type": "code",
      "metadata": {
        "colab": {
          "base_uri": "https://localhost:8080/"
        },
        "id": "1odbmHPL1v4j",
        "outputId": "a60baac5-5e5a-4e19-9548-43a3432a5dad"
      },
      "source": [
        "list_b"
      ],
      "execution_count": 29,
      "outputs": [
        {
          "output_type": "execute_result",
          "data": {
            "text/plain": [
              "[1, 5, 'v']"
            ]
          },
          "metadata": {
            "tags": []
          },
          "execution_count": 29
        }
      ]
    },
    {
      "cell_type": "code",
      "metadata": {
        "colab": {
          "base_uri": "https://localhost:8080/"
        },
        "id": "VlTNY5jN1yYr",
        "outputId": "06e2bc25-82b3-44cc-84dd-7c11262447e4"
      },
      "source": [
        "list_b.append(list_a)\r\n",
        "print(list_b)"
      ],
      "execution_count": 30,
      "outputs": [
        {
          "output_type": "stream",
          "text": [
            "[1, 5, 'v', []]\n"
          ],
          "name": "stdout"
        }
      ]
    },
    {
      "cell_type": "markdown",
      "metadata": {
        "id": "AiJgX3Ch114L"
      },
      "source": [
        "**String > list of characters**"
      ]
    },
    {
      "cell_type": "code",
      "metadata": {
        "colab": {
          "base_uri": "https://localhost:8080/",
          "height": 38
        },
        "id": "o8FpDCfp13nM",
        "outputId": "45cec927-e19b-415d-f948-27f820830e98"
      },
      "source": [
        "t = 'python is easy'\r\n",
        "t"
      ],
      "execution_count": 31,
      "outputs": [
        {
          "output_type": "execute_result",
          "data": {
            "application/vnd.google.colaboratory.intrinsic+json": {
              "type": "string"
            },
            "text/plain": [
              "'python is easy'"
            ]
          },
          "metadata": {
            "tags": []
          },
          "execution_count": 31
        }
      ]
    },
    {
      "cell_type": "code",
      "metadata": {
        "colab": {
          "base_uri": "https://localhost:8080/"
        },
        "id": "QrIBYwCo1--C",
        "outputId": "31d7e51f-ad4d-4d7a-9406-b43b82494cc7"
      },
      "source": [
        "len(list_b) # len คือคำสั่งที่ใช้ตรวจสอบความยาวของ list (จำนวนสมาชิก)"
      ],
      "execution_count": 32,
      "outputs": [
        {
          "output_type": "execute_result",
          "data": {
            "text/plain": [
              "4"
            ]
          },
          "metadata": {
            "tags": []
          },
          "execution_count": 32
        }
      ]
    },
    {
      "cell_type": "code",
      "metadata": {
        "colab": {
          "base_uri": "https://localhost:8080/"
        },
        "id": "1JDSmF6e2Jgz",
        "outputId": "3144a9fa-df6e-4473-b9df-8f392397414d"
      },
      "source": [
        "len(t)"
      ],
      "execution_count": 33,
      "outputs": [
        {
          "output_type": "execute_result",
          "data": {
            "text/plain": [
              "14"
            ]
          },
          "metadata": {
            "tags": []
          },
          "execution_count": 33
        }
      ]
    },
    {
      "cell_type": "markdown",
      "metadata": {
        "id": "h-j9Th_d2Px7"
      },
      "source": [
        "# **access a member of a list (list&string)**\r\n",
        "\r\n",
        "###โดยการเริ่มนับจะเริ่มนับจาก 0\r\n",
        "\r\n",
        "###0 คือสมาชิกตัวแรก , -1 คือสมาชิกตัวสุดท้าย"
      ]
    },
    {
      "cell_type": "code",
      "metadata": {
        "colab": {
          "base_uri": "https://localhost:8080/",
          "height": 38
        },
        "id": "7GQFRn2h2f1M",
        "outputId": "0cb613eb-485a-45c0-bbbe-8915a0fc39b9"
      },
      "source": [
        "t[1]"
      ],
      "execution_count": 34,
      "outputs": [
        {
          "output_type": "execute_result",
          "data": {
            "application/vnd.google.colaboratory.intrinsic+json": {
              "type": "string"
            },
            "text/plain": [
              "'y'"
            ]
          },
          "metadata": {
            "tags": []
          },
          "execution_count": 34
        }
      ]
    },
    {
      "cell_type": "code",
      "metadata": {
        "colab": {
          "base_uri": "https://localhost:8080/",
          "height": 38
        },
        "id": "cMGJivsx2yfc",
        "outputId": "5ddf207d-23ff-4dfc-9b8b-95041181246d"
      },
      "source": [
        "t[-1]"
      ],
      "execution_count": 35,
      "outputs": [
        {
          "output_type": "execute_result",
          "data": {
            "application/vnd.google.colaboratory.intrinsic+json": {
              "type": "string"
            },
            "text/plain": [
              "'y'"
            ]
          },
          "metadata": {
            "tags": []
          },
          "execution_count": 35
        }
      ]
    },
    {
      "cell_type": "code",
      "metadata": {
        "colab": {
          "base_uri": "https://localhost:8080/",
          "height": 38
        },
        "id": "3mjsMGC-21oo",
        "outputId": "38b8f4c6-9dde-44ee-d9ef-2f79a27bbdc4"
      },
      "source": [
        "t[-4]"
      ],
      "execution_count": 36,
      "outputs": [
        {
          "output_type": "execute_result",
          "data": {
            "application/vnd.google.colaboratory.intrinsic+json": {
              "type": "string"
            },
            "text/plain": [
              "'e'"
            ]
          },
          "metadata": {
            "tags": []
          },
          "execution_count": 36
        }
      ]
    },
    {
      "cell_type": "markdown",
      "metadata": {
        "id": "d_4GBF9v25Lh"
      },
      "source": [
        "**ตัวที่อยู่ข้างใน [ ] เรียกว่า index หรือ ตัวชี้**\r\n",
        "\r\n",
        "List slicing สามารถทำได้โดยใช้ colon :\r\n",
        "\r\n",
        "[a:b] -> [a,b)\r\n",
        "\r\n",
        "![FC0D95E0-6781-4D75-8D05-1C6DAF15662B.png](data:image/png;base64,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)\r\n"
      ]
    },
    {
      "cell_type": "code",
      "metadata": {
        "colab": {
          "base_uri": "https://localhost:8080/"
        },
        "id": "MBr7xSWm3vKt",
        "outputId": "4a96bfa2-2308-483a-9eb9-479db61368ef"
      },
      "source": [
        "print(t)\r\n",
        "print(t[7:9])"
      ],
      "execution_count": 37,
      "outputs": [
        {
          "output_type": "stream",
          "text": [
            "python is easy\n",
            "is\n"
          ],
          "name": "stdout"
        }
      ]
    },
    {
      "cell_type": "markdown",
      "metadata": {
        "id": "7SDQ21qj4OeQ"
      },
      "source": [
        "ถ้าเว้นว่างข้างหน้า คือ เริ่มตั้งแต่ตัวแรก\r\n",
        "\r\n",
        "ถ้าเว้นว่างข้างหลัง คือ ไปจนถึงตัวสุดท้าย"
      ]
    },
    {
      "cell_type": "code",
      "metadata": {
        "colab": {
          "base_uri": "https://localhost:8080/"
        },
        "id": "OE__evs64XXD",
        "outputId": "2e29bacf-7eba-48d1-f2a5-2dce478cce1b"
      },
      "source": [
        "print(t)\r\n",
        "print(t[:6])\r\n",
        "print(t[10:])\r\n",
        "print(t[-4:])\r\n",
        "print(t[:])"
      ],
      "execution_count": 38,
      "outputs": [
        {
          "output_type": "stream",
          "text": [
            "python is easy\n",
            "python\n",
            "easy\n",
            "easy\n",
            "python is easy\n"
          ],
          "name": "stdout"
        }
      ]
    },
    {
      "cell_type": "markdown",
      "metadata": {
        "id": "BvKeL0fa4daR"
      },
      "source": [
        "**สามารถเอา list มาต่อกันได้ด้วย +**"
      ]
    },
    {
      "cell_type": "code",
      "metadata": {
        "colab": {
          "base_uri": "https://localhost:8080/",
          "height": 38
        },
        "id": "2YaK2jwT4pkL",
        "outputId": "45a08d6b-b871-40b1-b142-46bfac9b07aa"
      },
      "source": [
        "t + '??'"
      ],
      "execution_count": 39,
      "outputs": [
        {
          "output_type": "execute_result",
          "data": {
            "application/vnd.google.colaboratory.intrinsic+json": {
              "type": "string"
            },
            "text/plain": [
              "'python is easy??'"
            ]
          },
          "metadata": {
            "tags": []
          },
          "execution_count": 39
        }
      ]
    },
    {
      "cell_type": "code",
      "metadata": {
        "colab": {
          "base_uri": "https://localhost:8080/",
          "height": 171
        },
        "id": "Tb8F6dOg4tUr",
        "outputId": "b0af4d12-6ecf-427d-a83f-6986f1394896"
      },
      "source": [
        "t + list_b ## แต่ไม่สามารถเอา list ปกติมาต่อกับ string ได้"
      ],
      "execution_count": 40,
      "outputs": [
        {
          "output_type": "error",
          "ename": "TypeError",
          "evalue": "ignored",
          "traceback": [
            "\u001b[0;31m---------------------------------------------------------------------------\u001b[0m",
            "\u001b[0;31mTypeError\u001b[0m                                 Traceback (most recent call last)",
            "\u001b[0;32m<ipython-input-40-8ceeb7529eac>\u001b[0m in \u001b[0;36m<module>\u001b[0;34m()\u001b[0m\n\u001b[0;32m----> 1\u001b[0;31m \u001b[0mt\u001b[0m \u001b[0;34m+\u001b[0m \u001b[0mlist_b\u001b[0m \u001b[0;31m## ไม่สามารถเอา list ปกติมาต่อกับ string ได้\u001b[0m\u001b[0;34m\u001b[0m\u001b[0;34m\u001b[0m\u001b[0m\n\u001b[0m",
            "\u001b[0;31mTypeError\u001b[0m: must be str, not list"
          ]
        }
      ]
    },
    {
      "cell_type": "code",
      "metadata": {
        "colab": {
          "base_uri": "https://localhost:8080/"
        },
        "id": "znVmBKH642L7",
        "outputId": "5d8c638b-74a0-4ebd-b585-36b664f6a0b7"
      },
      "source": [
        "list_b + list_a"
      ],
      "execution_count": 41,
      "outputs": [
        {
          "output_type": "execute_result",
          "data": {
            "text/plain": [
              "[1, 5, 'v', []]"
            ]
          },
          "metadata": {
            "tags": []
          },
          "execution_count": 41
        }
      ]
    },
    {
      "cell_type": "markdown",
      "metadata": {
        "id": "ZH1vzUk3469w"
      },
      "source": [
        "**การแบ่ง string ตามสัญลักษณ์ที่กำหนด -> split string**"
      ]
    },
    {
      "cell_type": "code",
      "metadata": {
        "colab": {
          "base_uri": "https://localhost:8080/"
        },
        "id": "7au8jEBg5HxY",
        "outputId": "c81d9d23-88d0-4d69-e268-d742768a826b"
      },
      "source": [
        "t.split(' ')"
      ],
      "execution_count": 42,
      "outputs": [
        {
          "output_type": "execute_result",
          "data": {
            "text/plain": [
              "['python', 'is', 'easy']"
            ]
          },
          "metadata": {
            "tags": []
          },
          "execution_count": 42
        }
      ]
    },
    {
      "cell_type": "code",
      "metadata": {
        "id": "FXx7CF9g5L05"
      },
      "source": [
        "time = '12:30:15'"
      ],
      "execution_count": 43,
      "outputs": []
    },
    {
      "cell_type": "code",
      "metadata": {
        "colab": {
          "base_uri": "https://localhost:8080/"
        },
        "id": "twGNqAKy5O-x",
        "outputId": "7b09e5ac-4e0e-4eb7-cf86-391cd997095f"
      },
      "source": [
        "time.split(':')"
      ],
      "execution_count": 44,
      "outputs": [
        {
          "output_type": "execute_result",
          "data": {
            "text/plain": [
              "['12', '30', '15']"
            ]
          },
          "metadata": {
            "tags": []
          },
          "execution_count": 44
        }
      ]
    },
    {
      "cell_type": "code",
      "metadata": {
        "colab": {
          "base_uri": "https://localhost:8080/"
        },
        "id": "lD8zlDX75S3N",
        "outputId": "639c22f6-5e01-4b1f-f47f-1065f5fa6418"
      },
      "source": [
        "t_sp = t.split(' ')\r\n",
        "print(t_sp)\r\n",
        "\r\n",
        "## เป็นวิธีการรวมกลับ\r\n",
        "\r\n",
        "print(':'.join(t_sp))"
      ],
      "execution_count": 45,
      "outputs": [
        {
          "output_type": "stream",
          "text": [
            "['python', 'is', 'easy']\n",
            "python:is:easy\n"
          ],
          "name": "stdout"
        }
      ]
    },
    {
      "cell_type": "markdown",
      "metadata": {
        "id": "kzOAaryO5b4F"
      },
      "source": [
        "#**HW คำนวณเวลาเป็นวินาทีของเวลาต่อไปนี้โดยใช้คำสั่ง split() ช่วย (print ออกมาให้สวยงาม)**\r\n",
        "\r\n",
        "12:30:15\r\n",
        "\r\n",
        "13:41:07\r\n",
        "\r\n",
        "12:53:15\r\n",
        "\r\n",
        "00:59:25\r\n",
        "\r\n",
        "11:11:11\r\n",
        "\r\n",
        "16:06:09"
      ]
    },
    {
      "cell_type": "code",
      "metadata": {
        "id": "eD0nnZn45nPP"
      },
      "source": [
        ""
      ],
      "execution_count": null,
      "outputs": []
    },
    {
      "cell_type": "code",
      "metadata": {
        "id": "nehMmgSb5n27"
      },
      "source": [
        ""
      ],
      "execution_count": null,
      "outputs": []
    }
  ]
}