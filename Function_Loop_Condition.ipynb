{
  "nbformat": 4,
  "nbformat_minor": 0,
  "metadata": {
    "colab": {
      "name": "Function_Loop_Condition.ipynb",
      "provenance": [],
      "authorship_tag": "ABX9TyNkgkd6xvqCvWgo07T3QJQ9",
      "include_colab_link": true
    },
    "kernelspec": {
      "name": "python3",
      "display_name": "Python 3"
    }
  },
  "cells": [
    {
      "cell_type": "markdown",
      "metadata": {
        "id": "view-in-github",
        "colab_type": "text"
      },
      "source": [
        "<a href=\"https://colab.research.google.com/github/paweenatoei/data_viz/blob/main/Function_Loop_Condition.ipynb\" target=\"_parent\"><img src=\"https://colab.research.google.com/assets/colab-badge.svg\" alt=\"Open In Colab\"/></a>"
      ]
    },
    {
      "cell_type": "code",
      "metadata": {
        "colab": {
          "base_uri": "https://localhost:8080/"
        },
        "id": "oFhRhI5tcoyg",
        "outputId": "b0ac6215-d556-4dee-ed06-f7f69d2170ca"
      },
      "source": [
        "name = 'ปวีณา'\r\n",
        "surname = 'ตรีทศ'\r\n",
        "ID = '613021095-3'\r\n",
        "\r\n",
        "b= f'ชื่อ {name} นามสกุล {surname} รหัส {ID}'\r\n",
        "print(b)"
      ],
      "execution_count": 1,
      "outputs": [
        {
          "output_type": "stream",
          "text": [
            "ชื่อ ปวีณา นามสกุล ตรีทศ รหัส 613021095-3\n"
          ],
          "name": "stdout"
        }
      ]
    },
    {
      "cell_type": "markdown",
      "metadata": {
        "id": "MiyRnYgJfcTz"
      },
      "source": [
        "#Function"
      ]
    },
    {
      "cell_type": "markdown",
      "metadata": {
        "id": "E0Xld9ODgw6T"
      },
      "source": [
        "ทำหน้าที่รับ input มาประมวลผลออกเป็น output\r\n",
        "\r\n",
        "f(x) = y โดยที่ x คือ input \r\n",
        "\r\n",
        "y คือ output"
      ]
    },
    {
      "cell_type": "markdown",
      "metadata": {
        "id": "UZv9g5rwhH4I"
      },
      "source": [
        "# def คือ การกำหนดฟังก์ชัน"
      ]
    },
    {
      "cell_type": "markdown",
      "metadata": {
        "id": "nV4XbqIZhidQ"
      },
      "source": [
        "\r\n",
        "```python\r\n",
        "     def function_name(_Input_) :\r\n",
        "        do_something with _Input_ to get _Output_\r\n",
        "        return\r\n",
        "```\r\n",
        "\r\n",
        "\r\n",
        "\r\n",
        "\r\n",
        "\r\n",
        "\r\n",
        "\r\n"
      ]
    },
    {
      "cell_type": "markdown",
      "metadata": {
        "id": "_jHUvHru3pjc"
      },
      "source": [
        "backtick (`) ==> กด ~ ค้าง, alt - 9>6 (full keyboard with number)\r\n",
        "\r\n",
        "tilde (~)\r\n",
        "\r\n",
        "curly bracket ({ })\r\n",
        "\r\n",
        "square bracket ([ ])"
      ]
    },
    {
      "cell_type": "markdown",
      "metadata": {
        "id": "w3HDXLOSmFRS"
      },
      "source": [
        "function มีส่วนสำคัญ 4 ส่วน\r\n",
        "\r\n",
        "1.   บอก python ว่าเราจะเขียนฟังก์ชั่น ชื่ออะไร  def function_name(): (ขาดไม่ได้)\r\n",
        "2.   กำหนดตัวแปรที่จะเป็น input  _Input_ (ขาดได้)\r\n",
        "3.   ส่วนประมวลผล do_something with _Input_ to get _Output_ (ขาดไม่ได้)\r\n",
        "4.   ส่วน output return _Output_(ขาดได้)\r\n",
        "\r\n"
      ]
    },
    {
      "cell_type": "markdown",
      "metadata": {
        "id": "-_jC7R2pknAY"
      },
      "source": [
        "ตัวอย่างการเขียน normal function"
      ]
    },
    {
      "cell_type": "code",
      "metadata": {
        "id": "smDN0M50kuUo"
      },
      "source": [
        "def print_name(surname,ID,name) :\r\n",
        "  st = f'ชื่อ {name} นามสกุล {surname} รหัส {ID}'\r\n",
        "  return st"
      ],
      "execution_count": 2,
      "outputs": []
    },
    {
      "cell_type": "code",
      "metadata": {
        "colab": {
          "base_uri": "https://localhost:8080/",
          "height": 38
        },
        "id": "31A-Ae6OhN_-",
        "outputId": "3d7c4679-3bc5-4a51-e0f9-e663461ed89b"
      },
      "source": [
        "print_name('ตรีทศ','6130210953','ปวีณา')"
      ],
      "execution_count": 3,
      "outputs": [
        {
          "output_type": "execute_result",
          "data": {
            "application/vnd.google.colaboratory.intrinsic+json": {
              "type": "string"
            },
            "text/plain": [
              "'ชื่อ ปวีณา นามสกุล ตรีทศ รหัส 6130210953'"
            ]
          },
          "metadata": {
            "tags": []
          },
          "execution_count": 3
        }
      ]
    },
    {
      "cell_type": "code",
      "metadata": {
        "colab": {
          "base_uri": "https://localhost:8080/"
        },
        "id": "HZDjF7a5llt9",
        "outputId": "7dca930f-4f56-4c45-da76-7bf347c9d104"
      },
      "source": [
        "print(print_name(name='ปวีณา',surname='ตรีทศ',ID='6130210953'))"
      ],
      "execution_count": 4,
      "outputs": [
        {
          "output_type": "stream",
          "text": [
            "ชื่อ ปวีณา นามสกุล ตรีทศ รหัส 6130210953\n"
          ],
          "name": "stdout"
        }
      ]
    },
    {
      "cell_type": "markdown",
      "metadata": {
        "id": "7V3vcyI1pbn3"
      },
      "source": [
        "ใช้ เว้นวรรค (indent) เพื่อบอกขอบเขตของโปรแกรม"
      ]
    },
    {
      "cell_type": "markdown",
      "metadata": {
        "id": "oSmTzearnpeJ"
      },
      "source": [
        "สามารถเพิ่มคำสั่งเข้าไปในฟังก์ชันได้อีก โดยการเปลี่ยนคำสั่ง return เป็น print() เช่น ตัวอย่างดังนี้ ได้ทำการเพิ่ม st2 ="
      ]
    },
    {
      "cell_type": "code",
      "metadata": {
        "id": "9XlHGzyLpDcq"
      },
      "source": [
        "def print_name2(name,surname,ID) :\r\n",
        "     st2 = f'ชื่อ {name} นามสกุล {surname} รหัส {ID}'\r\n",
        "     print(st2)"
      ],
      "execution_count": 5,
      "outputs": []
    },
    {
      "cell_type": "code",
      "metadata": {
        "colab": {
          "base_uri": "https://localhost:8080/"
        },
        "id": "9FbI7BjOqIH8",
        "outputId": "1aa3601c-2139-4ded-9d13-8d989ed61362"
      },
      "source": [
        "print_name2(name='ปวีณา',surname='ตรีทศ',ID=6130210953)"
      ],
      "execution_count": 6,
      "outputs": [
        {
          "output_type": "stream",
          "text": [
            "ชื่อ ปวีณา นามสกุล ตรีทศ รหัส 6130210953\n"
          ],
          "name": "stdout"
        }
      ]
    },
    {
      "cell_type": "markdown",
      "metadata": {
        "id": "ql4PKO5Lq3_6"
      },
      "source": [
        "ในฟังก์ชันไม่จำเป็นต้องมี Input"
      ]
    },
    {
      "cell_type": "code",
      "metadata": {
        "id": "p9CgCl61q_0R"
      },
      "source": [
        "def Pi() :\r\n",
        "     return 3.14159265359"
      ],
      "execution_count": 7,
      "outputs": []
    },
    {
      "cell_type": "markdown",
      "metadata": {
        "id": "qz9ycpuxsAPX"
      },
      "source": [
        "**สามารถกำหนดค่า default ให้กับฟังก์ชันได้**\r\n",
        "\r\n",
        "input ของ function ใน python มีสองแบบ input ที่จำเป็นต้องใส่ กับ input ที่ไม่จำเป็นต้องใส่ (มีค่า default)\r\n",
        "เราต้องเรียง input ที่จำเป็นต้องใส่ขึ้นก่อน"
      ]
    },
    {
      "cell_type": "code",
      "metadata": {
        "id": "65ZNip0qstin"
      },
      "source": [
        "def print_2lines_default(name,surname,ID,grade='A') :\r\n",
        "  st = f'ชื่อ {name} นามสกุล {surname} รหัส {ID}'\r\n",
        "  print (st)\r\n",
        "  st2=f'เกรดวิชา Data Viz >>> {grade}'\r\n",
        "  print(st2)"
      ],
      "execution_count": 8,
      "outputs": []
    },
    {
      "cell_type": "code",
      "metadata": {
        "colab": {
          "base_uri": "https://localhost:8080/"
        },
        "id": "bK7SFop5vJ5G",
        "outputId": "e05d81b9-7701-4944-98f0-64aa36fe324f"
      },
      "source": [
        "print_2lines_default('ปวีณา','ตรีทศ','6130210953')"
      ],
      "execution_count": 9,
      "outputs": [
        {
          "output_type": "stream",
          "text": [
            "ชื่อ ปวีณา นามสกุล ตรีทศ รหัส 6130210953\n",
            "เกรดวิชา Data Viz >>> A\n"
          ],
          "name": "stdout"
        }
      ]
    },
    {
      "cell_type": "code",
      "metadata": {
        "colab": {
          "base_uri": "https://localhost:8080/"
        },
        "id": "lXegqMes4MuH",
        "outputId": "d5768c4e-f6fc-4bc4-c050-a2c79111a3cc"
      },
      "source": [
        "print_2lines_default('ปวีณา','ตรีทศ','6130210953','A')"
      ],
      "execution_count": 10,
      "outputs": [
        {
          "output_type": "stream",
          "text": [
            "ชื่อ ปวีณา นามสกุล ตรีทศ รหัส 6130210953\n",
            "เกรดวิชา Data Viz >>> A\n"
          ],
          "name": "stdout"
        }
      ]
    },
    {
      "cell_type": "markdown",
      "metadata": {
        "id": "Zbcn4f780bBB"
      },
      "source": [
        "#LOOP คือ การวนซ้ำ"
      ]
    },
    {
      "cell_type": "markdown",
      "metadata": {
        "id": "NQ778mhG0zU5"
      },
      "source": [
        "for เป็นคำที่ใช้บอก python ว่ากำลังเขียน loop โดย for จะวนดึงสมาชิกจาก listA มาทำ process do_something"
      ]
    },
    {
      "cell_type": "markdown",
      "metadata": {
        "id": "XQPWUiEO4rxk"
      },
      "source": [
        "\r\n",
        "```\r\n",
        "for each_member in listA :\r\n",
        "        do_something\r\n",
        "```"
      ]
    },
    {
      "cell_type": "markdown",
      "metadata": {
        "id": "sJsSilQP5Gb0"
      },
      "source": [
        "**คำสั่ง for เป็นคำสั่งวนซ้ำที่ใช้ควบคุมการทำงานซ้ำๆ ในจำนวนรอบที่แน่นอน**"
      ]
    },
    {
      "cell_type": "code",
      "metadata": {
        "colab": {
          "base_uri": "https://localhost:8080/"
        },
        "id": "K17L66PM0mFM",
        "outputId": "e53b9f1d-78cb-4987-f399-689e216eca3d"
      },
      "source": [
        "for i in [1,2,3] :\r\n",
        "    o = i**2\r\n",
        "    print (f'this member = {i} after process = {o}')"
      ],
      "execution_count": 11,
      "outputs": [
        {
          "output_type": "stream",
          "text": [
            "this member = 1 after process = 1\n",
            "this member = 2 after process = 4\n",
            "this member = 3 after process = 9\n"
          ],
          "name": "stdout"
        }
      ]
    },
    {
      "cell_type": "markdown",
      "metadata": {
        "id": "8Fph8aT7VO_g"
      },
      "source": [
        "**ตัวอย่างการใช้คำสั่ง for ในการวนซ้ำค่าของ i เมื่อ i คือ 'Thanapong' และคำสั่ง print(f'{i} -> /') เพื่อกำหนดให้ผลลัพธ์แสดงสัญลักษณ์ -> / จากนั้นเพิ่มคำสั่ง print(' ') อีกครั้งเพื่อให้ผลลัพธ์มีการเว้นวรรค**"
      ]
    },
    {
      "cell_type": "code",
      "metadata": {
        "colab": {
          "base_uri": "https://localhost:8080/"
        },
        "id": "ZeXtSGlzVQXP",
        "outputId": "1595b860-688b-47be-f3d2-df1de71a7cff"
      },
      "source": [
        "for i in 'Paweena':\r\n",
        "    print(f'{i} -> / ' )\r\n",
        "    #/คือตัวเคาะไปบรรทัดใหม่"
      ],
      "execution_count": 40,
      "outputs": [
        {
          "output_type": "stream",
          "text": [
            "P -> / \n",
            "a -> / \n",
            "w -> / \n",
            "e -> / \n",
            "e -> / \n",
            "n -> / \n",
            "a -> / \n"
          ],
          "name": "stdout"
        }
      ]
    },
    {
      "cell_type": "code",
      "metadata": {
        "colab": {
          "base_uri": "https://localhost:8080/"
        },
        "id": "wKjh8FtOUoQU",
        "outputId": "2a416b8b-9c37-4ada-ab42-f1247da64d76"
      },
      "source": [
        "for i in 'Paweena':\r\n",
        "    print(f'{i} -> / ' ,end = '') #สั่งให้ print แบบไม่เว้นบรรทัด"
      ],
      "execution_count": 41,
      "outputs": [
        {
          "output_type": "stream",
          "text": [
            "P -> / a -> / w -> / e -> / e -> / n -> / a -> / "
          ],
          "name": "stdout"
        }
      ]
    },
    {
      "cell_type": "code",
      "metadata": {
        "colab": {
          "base_uri": "https://localhost:8080/"
        },
        "id": "N9z1ESntUw0y",
        "outputId": "db5383da-d9a2-4a0d-8abf-f2e90daa61b9"
      },
      "source": [
        "for i in 'Paweena':\r\n",
        "    print(f'{i} -> / ' ,end = ',') #สั่งให้ print แบบไม่เว้นบรรทัด"
      ],
      "execution_count": 42,
      "outputs": [
        {
          "output_type": "stream",
          "text": [
            "P -> / ,a -> / ,w -> / ,e -> / ,e -> / ,n -> / ,a -> / ,"
          ],
          "name": "stdout"
        }
      ]
    },
    {
      "cell_type": "markdown",
      "metadata": {
        "id": "ExrTLbShU3Ph"
      },
      "source": [
        "#**สร้าง list ตัวเลขแบบอัตโนมัติ range()**"
      ]
    },
    {
      "cell_type": "code",
      "metadata": {
        "colab": {
          "base_uri": "https://localhost:8080/"
        },
        "id": "QTzcuV9OU6RP",
        "outputId": "f8f64915-d6a1-4ab1-d8bc-e6fe088396fe"
      },
      "source": [
        "range5_output = range(5)\r\n",
        "print(list(range5_output))"
      ],
      "execution_count": 15,
      "outputs": [
        {
          "output_type": "stream",
          "text": [
            "[0, 1, 2, 3, 4]\n"
          ],
          "name": "stdout"
        }
      ]
    },
    {
      "cell_type": "code",
      "metadata": {
        "colab": {
          "base_uri": "https://localhost:8080/"
        },
        "id": "Mc_yxW5PU-3v",
        "outputId": "49ef8bae-86de-46c3-c65d-73076b2a51a2"
      },
      "source": [
        "for i in range(100):\r\n",
        "    print('งง',end=' ')"
      ],
      "execution_count": 16,
      "outputs": [
        {
          "output_type": "stream",
          "text": [
            "งง งง งง งง งง งง งง งง งง งง งง งง งง งง งง งง งง งง งง งง งง งง งง งง งง งง งง งง งง งง งง งง งง งง งง งง งง งง งง งง งง งง งง งง งง งง งง งง งง งง งง งง งง งง งง งง งง งง งง งง งง งง งง งง งง งง งง งง งง งง งง งง งง งง งง งง งง งง งง งง งง งง งง งง งง งง งง งง งง งง งง งง งง งง งง งง งง งง งง งง "
          ],
          "name": "stdout"
        }
      ]
    },
    {
      "cell_type": "code",
      "metadata": {
        "colab": {
          "base_uri": "https://localhost:8080/"
        },
        "id": "y6ANF51bVGCD",
        "outputId": "2ae41f5f-fa9b-4b14-9441-8479ec980aee"
      },
      "source": [
        "list(range(1,11)) #เริ่มต้นเป็นวงทึบ จบเป็นวงกลมโปร่ง เหมือน list slicing"
      ],
      "execution_count": 17,
      "outputs": [
        {
          "output_type": "execute_result",
          "data": {
            "text/plain": [
              "[1, 2, 3, 4, 5, 6, 7, 8, 9, 10]"
            ]
          },
          "metadata": {
            "tags": []
          },
          "execution_count": 17
        }
      ]
    },
    {
      "cell_type": "code",
      "metadata": {
        "colab": {
          "base_uri": "https://localhost:8080/"
        },
        "id": "GxOAGEB-VLkr",
        "outputId": "1d72d7e0-a18d-466b-c801-76b3400f7f7c"
      },
      "source": [
        "list(range(-3,20,4))"
      ],
      "execution_count": 18,
      "outputs": [
        {
          "output_type": "execute_result",
          "data": {
            "text/plain": [
              "[-3, 1, 5, 9, 13, 17]"
            ]
          },
          "metadata": {
            "tags": []
          },
          "execution_count": 18
        }
      ]
    },
    {
      "cell_type": "markdown",
      "metadata": {
        "id": "OW-oRW5pVPgV"
      },
      "source": [
        "**loop in loop**\r\n",
        "\r\n",
        "**สามารถใช้ for loop ซ้อนกันสองรอบได้**"
      ]
    },
    {
      "cell_type": "code",
      "metadata": {
        "colab": {
          "base_uri": "https://localhost:8080/"
        },
        "id": "_71j89JTVVTS",
        "outputId": "7a3dc32e-ffde-4e29-9672-65becb39b94e"
      },
      "source": [
        "for name1 in  range(2,5): #(2, 3, 4)\r\n",
        "    print(f'now name1 = {name1}')\r\n",
        "    for name2 in  range(1,13):\r\n",
        "        print(name1,' x ',name2,' = ',name1*name2)\r\n",
        "    print('the inner loop is end')"
      ],
      "execution_count": 19,
      "outputs": [
        {
          "output_type": "stream",
          "text": [
            "now name1 = 2\n",
            "2  x  1  =  2\n",
            "2  x  2  =  4\n",
            "2  x  3  =  6\n",
            "2  x  4  =  8\n",
            "2  x  5  =  10\n",
            "2  x  6  =  12\n",
            "2  x  7  =  14\n",
            "2  x  8  =  16\n",
            "2  x  9  =  18\n",
            "2  x  10  =  20\n",
            "2  x  11  =  22\n",
            "2  x  12  =  24\n",
            "the inner loop is end\n",
            "now name1 = 3\n",
            "3  x  1  =  3\n",
            "3  x  2  =  6\n",
            "3  x  3  =  9\n",
            "3  x  4  =  12\n",
            "3  x  5  =  15\n",
            "3  x  6  =  18\n",
            "3  x  7  =  21\n",
            "3  x  8  =  24\n",
            "3  x  9  =  27\n",
            "3  x  10  =  30\n",
            "3  x  11  =  33\n",
            "3  x  12  =  36\n",
            "the inner loop is end\n",
            "now name1 = 4\n",
            "4  x  1  =  4\n",
            "4  x  2  =  8\n",
            "4  x  3  =  12\n",
            "4  x  4  =  16\n",
            "4  x  5  =  20\n",
            "4  x  6  =  24\n",
            "4  x  7  =  28\n",
            "4  x  8  =  32\n",
            "4  x  9  =  36\n",
            "4  x  10  =  40\n",
            "4  x  11  =  44\n",
            "4  x  12  =  48\n",
            "the inner loop is end\n"
          ],
          "name": "stdout"
        }
      ]
    },
    {
      "cell_type": "markdown",
      "metadata": {
        "id": "_CjsT0-8Vbsb"
      },
      "source": [
        "**loop in function**\r\n",
        "\r\n",
        "**การวนลูปในฟังก์ชั่น**"
      ]
    },
    {
      "cell_type": "code",
      "metadata": {
        "id": "3wFCv_X-Viad"
      },
      "source": [
        "def print_feelings(I,friendS,feeling = 'คิดถึง'):\r\n",
        "    for friend in friendS:\r\n",
        "        print(f'{I} {feeling} {friend}')"
      ],
      "execution_count": 20,
      "outputs": []
    },
    {
      "cell_type": "code",
      "metadata": {
        "id": "Sa1rIi4mVr2B"
      },
      "source": [
        "list_friends = ['เติ้ล','แตง','เบียร์','แบม','ปอ','หวาน']"
      ],
      "execution_count": 21,
      "outputs": []
    },
    {
      "cell_type": "code",
      "metadata": {
        "colab": {
          "base_uri": "https://localhost:8080/"
        },
        "id": "HTnhSd5eV4lt",
        "outputId": "d01775ad-e16a-4ee0-d032-d725ae517fc0"
      },
      "source": [
        "print_feelings('เตย',list_friends)"
      ],
      "execution_count": 22,
      "outputs": [
        {
          "output_type": "stream",
          "text": [
            "เตย คิดถึง เติ้ล\n",
            "เตย คิดถึง แตง\n",
            "เตย คิดถึง เบียร์\n",
            "เตย คิดถึง แบม\n",
            "เตย คิดถึง ปอ\n",
            "เตย คิดถึง หวาน\n"
          ],
          "name": "stdout"
        }
      ]
    },
    {
      "cell_type": "code",
      "metadata": {
        "colab": {
          "base_uri": "https://localhost:8080/"
        },
        "id": "9oMe3zP4V9Qg",
        "outputId": "80ce50c2-1ed9-43ca-88e6-53e2a312795e"
      },
      "source": [
        "print_feelings('เตย',list_friends,feeling='รัก')"
      ],
      "execution_count": 23,
      "outputs": [
        {
          "output_type": "stream",
          "text": [
            "เตย รัก เติ้ล\n",
            "เตย รัก แตง\n",
            "เตย รัก เบียร์\n",
            "เตย รัก แบม\n",
            "เตย รัก ปอ\n",
            "เตย รัก หวาน\n"
          ],
          "name": "stdout"
        }
      ]
    },
    {
      "cell_type": "code",
      "metadata": {
        "colab": {
          "base_uri": "https://localhost:8080/"
        },
        "id": "8hOVZF8nWDyy",
        "outputId": "ab20e35f-8789-498c-f8ee-66857c28a041"
      },
      "source": [
        "print_feelings('เตย',list_friends,'รัก')"
      ],
      "execution_count": 24,
      "outputs": [
        {
          "output_type": "stream",
          "text": [
            "เตย รัก เติ้ล\n",
            "เตย รัก แตง\n",
            "เตย รัก เบียร์\n",
            "เตย รัก แบม\n",
            "เตย รัก ปอ\n",
            "เตย รัก หวาน\n"
          ],
          "name": "stdout"
        }
      ]
    },
    {
      "cell_type": "markdown",
      "metadata": {
        "id": "aNz-zZ33WIyf"
      },
      "source": [
        "**looping in dict**\r\n",
        "\r\n",
        "**ทำการวนลูปในค่า dict โดยที่เรากำหนดตัว key และvalueขึ้นมา ได้ดังนี้**"
      ]
    },
    {
      "cell_type": "code",
      "metadata": {
        "colab": {
          "base_uri": "https://localhost:8080/"
        },
        "id": "IxKrqyoeWPsU",
        "outputId": "3c765d5e-949a-4f5d-801f-bab365264bf5"
      },
      "source": [
        "name_grade = {'พักตร์พิลัย' : 'B','ทอฝัน' : 'C','ปวีณา' : 'A','พรทิพย์' : 'F'}\r\n",
        "name_grade"
      ],
      "execution_count": 25,
      "outputs": [
        {
          "output_type": "execute_result",
          "data": {
            "text/plain": [
              "{'ทอฝัน': 'C', 'ปวีณา': 'A', 'พรทิพย์': 'F', 'พักตร์พิลัย': 'B'}"
            ]
          },
          "metadata": {
            "tags": []
          },
          "execution_count": 25
        }
      ]
    },
    {
      "cell_type": "code",
      "metadata": {
        "colab": {
          "base_uri": "https://localhost:8080/",
          "height": 38
        },
        "id": "3w5jXbvyWoyN",
        "outputId": "7211cf33-754b-4b7a-a1de-f99fb7a05422"
      },
      "source": [
        "name_grade['ปวีณา']"
      ],
      "execution_count": 26,
      "outputs": [
        {
          "output_type": "execute_result",
          "data": {
            "application/vnd.google.colaboratory.intrinsic+json": {
              "type": "string"
            },
            "text/plain": [
              "'A'"
            ]
          },
          "metadata": {
            "tags": []
          },
          "execution_count": 26
        }
      ]
    },
    {
      "cell_type": "code",
      "metadata": {
        "colab": {
          "base_uri": "https://localhost:8080/"
        },
        "id": "Ruch-4bZWt1l",
        "outputId": "486dbbad-d019-4bf1-bc4e-bc639ed98814"
      },
      "source": [
        "for i in name_grade.keys():\r\n",
        "    print(i)"
      ],
      "execution_count": 27,
      "outputs": [
        {
          "output_type": "stream",
          "text": [
            "พักตร์พิลัย\n",
            "ทอฝัน\n",
            "ปวีณา\n",
            "พรทิพย์\n"
          ],
          "name": "stdout"
        }
      ]
    },
    {
      "cell_type": "code",
      "metadata": {
        "colab": {
          "base_uri": "https://localhost:8080/"
        },
        "id": "WrQ678z1WxT2",
        "outputId": "54dadebd-3235-4174-b70f-b17e2722a9ae"
      },
      "source": [
        "name_grade.keys()"
      ],
      "execution_count": 28,
      "outputs": [
        {
          "output_type": "execute_result",
          "data": {
            "text/plain": [
              "dict_keys(['พักตร์พิลัย', 'ทอฝัน', 'ปวีณา', 'พรทิพย์'])"
            ]
          },
          "metadata": {
            "tags": []
          },
          "execution_count": 28
        }
      ]
    },
    {
      "cell_type": "code",
      "metadata": {
        "colab": {
          "base_uri": "https://localhost:8080/"
        },
        "id": "-Nb6k21SW1TX",
        "outputId": "d5bc6988-04b9-4a09-e02c-1d9244edf005"
      },
      "source": [
        "for i in name_grade.keys():\r\n",
        "    print(f'{i} ได้เกรด {name_grade[i]}')"
      ],
      "execution_count": 29,
      "outputs": [
        {
          "output_type": "stream",
          "text": [
            "พักตร์พิลัย ได้เกรด B\n",
            "ทอฝัน ได้เกรด C\n",
            "ปวีณา ได้เกรด A\n",
            "พรทิพย์ ได้เกรด F\n"
          ],
          "name": "stdout"
        }
      ]
    },
    {
      "cell_type": "markdown",
      "metadata": {
        "id": "EwmlbTPWW5xw"
      },
      "source": [
        "**conditional คือ เงื่อนไข /ประโยคเงื่อนไข**\r\n",
        "\r\n",
        "**True / False**\r\n",
        "\r\n",
        "**การวนลูปโดยมีเงื่อนไขต่างๆมาเกี่ยวข้อง โดยมี pattern ดังนี้**"
      ]
    },
    {
      "cell_type": "markdown",
      "metadata": {
        "id": "vyrDzmGbXU18"
      },
      "source": [
        "\r\n",
        "```\r\n",
        "if condition1 :\r\n",
        "    do something\r\n",
        "elif condition2 :  #elif คือ else if\r\n",
        "    do another thing\r\n",
        "else:\r\n",
        "    do ...\r\n",
        "```\r\n"
      ]
    },
    {
      "cell_type": "code",
      "metadata": {
        "colab": {
          "base_uri": "https://localhost:8080/"
        },
        "id": "Zy6TSYPxW5AJ",
        "outputId": "7d9f81cc-5b5d-4943-8e3d-731a9267c049"
      },
      "source": [
        "print(list_friends)"
      ],
      "execution_count": 30,
      "outputs": [
        {
          "output_type": "stream",
          "text": [
            "['เติ้ล', 'แตง', 'เบียร์', 'แบม', 'ปอ', 'หวาน']\n"
          ],
          "name": "stdout"
        }
      ]
    },
    {
      "cell_type": "code",
      "metadata": {
        "colab": {
          "base_uri": "https://localhost:8080/"
        },
        "id": "lrhMs7VwXkxu",
        "outputId": "2b78fd26-5b47-4888-e27a-efe53878b961"
      },
      "source": [
        "for name1 in list_friends :\r\n",
        "    for name2 in list_friends :\r\n",
        "            print(name1,'รัก',name2)"
      ],
      "execution_count": 31,
      "outputs": [
        {
          "output_type": "stream",
          "text": [
            "เติ้ล รัก เติ้ล\n",
            "เติ้ล รัก แตง\n",
            "เติ้ล รัก เบียร์\n",
            "เติ้ล รัก แบม\n",
            "เติ้ล รัก ปอ\n",
            "เติ้ล รัก หวาน\n",
            "แตง รัก เติ้ล\n",
            "แตง รัก แตง\n",
            "แตง รัก เบียร์\n",
            "แตง รัก แบม\n",
            "แตง รัก ปอ\n",
            "แตง รัก หวาน\n",
            "เบียร์ รัก เติ้ล\n",
            "เบียร์ รัก แตง\n",
            "เบียร์ รัก เบียร์\n",
            "เบียร์ รัก แบม\n",
            "เบียร์ รัก ปอ\n",
            "เบียร์ รัก หวาน\n",
            "แบม รัก เติ้ล\n",
            "แบม รัก แตง\n",
            "แบม รัก เบียร์\n",
            "แบม รัก แบม\n",
            "แบม รัก ปอ\n",
            "แบม รัก หวาน\n",
            "ปอ รัก เติ้ล\n",
            "ปอ รัก แตง\n",
            "ปอ รัก เบียร์\n",
            "ปอ รัก แบม\n",
            "ปอ รัก ปอ\n",
            "ปอ รัก หวาน\n",
            "หวาน รัก เติ้ล\n",
            "หวาน รัก แตง\n",
            "หวาน รัก เบียร์\n",
            "หวาน รัก แบม\n",
            "หวาน รัก ปอ\n",
            "หวาน รัก หวาน\n"
          ],
          "name": "stdout"
        }
      ]
    },
    {
      "cell_type": "code",
      "metadata": {
        "colab": {
          "base_uri": "https://localhost:8080/"
        },
        "id": "ZjJDCaTjXuYn",
        "outputId": "b3097e6b-1536-4ec3-a7d7-b2a75090c590"
      },
      "source": [
        "for name1 in list_friends:\r\n",
        "    for name2 in list_friends:\r\n",
        "        if name1 != name2: #ไม่ปริ้นชื่อคนเดียวกันซ้ำ\r\n",
        "            print(name1,'รัก',name2)"
      ],
      "execution_count": 32,
      "outputs": [
        {
          "output_type": "stream",
          "text": [
            "เติ้ล รัก แตง\n",
            "เติ้ล รัก เบียร์\n",
            "เติ้ล รัก แบม\n",
            "เติ้ล รัก ปอ\n",
            "เติ้ล รัก หวาน\n",
            "แตง รัก เติ้ล\n",
            "แตง รัก เบียร์\n",
            "แตง รัก แบม\n",
            "แตง รัก ปอ\n",
            "แตง รัก หวาน\n",
            "เบียร์ รัก เติ้ล\n",
            "เบียร์ รัก แตง\n",
            "เบียร์ รัก แบม\n",
            "เบียร์ รัก ปอ\n",
            "เบียร์ รัก หวาน\n",
            "แบม รัก เติ้ล\n",
            "แบม รัก แตง\n",
            "แบม รัก เบียร์\n",
            "แบม รัก ปอ\n",
            "แบม รัก หวาน\n",
            "ปอ รัก เติ้ล\n",
            "ปอ รัก แตง\n",
            "ปอ รัก เบียร์\n",
            "ปอ รัก แบม\n",
            "ปอ รัก หวาน\n",
            "หวาน รัก เติ้ล\n",
            "หวาน รัก แตง\n",
            "หวาน รัก เบียร์\n",
            "หวาน รัก แบม\n",
            "หวาน รัก ปอ\n"
          ],
          "name": "stdout"
        }
      ]
    },
    {
      "cell_type": "code",
      "metadata": {
        "colab": {
          "base_uri": "https://localhost:8080/"
        },
        "id": "SMObpGdkX010",
        "outputId": "11221251-b1f0-419b-f0ad-1fdfd99f217c"
      },
      "source": [
        "for name1 in list_friends:\r\n",
        "    for name2 in list_friends:\r\n",
        "        if name1 == name2: #ปริ้นชื่อคนเดียวกันซ้ำ\r\n",
        "            print(name1,'รัก',name2)"
      ],
      "execution_count": 33,
      "outputs": [
        {
          "output_type": "stream",
          "text": [
            "เติ้ล รัก เติ้ล\n",
            "แตง รัก แตง\n",
            "เบียร์ รัก เบียร์\n",
            "แบม รัก แบม\n",
            "ปอ รัก ปอ\n",
            "หวาน รัก หวาน\n"
          ],
          "name": "stdout"
        }
      ]
    },
    {
      "cell_type": "code",
      "metadata": {
        "colab": {
          "base_uri": "https://localhost:8080/"
        },
        "id": "j04Akk5QX36u",
        "outputId": "05bdd357-5395-4c77-941b-dfacab502fdf"
      },
      "source": [
        "for name1 in list_friends:\r\n",
        "    for name2 in list_friends:\r\n",
        "        if name1 == name2: \r\n",
        "            'do nothing'\r\n",
        "        else:\r\n",
        "            print(name1,'รัก',name2)"
      ],
      "execution_count": 34,
      "outputs": [
        {
          "output_type": "stream",
          "text": [
            "เติ้ล รัก แตง\n",
            "เติ้ล รัก เบียร์\n",
            "เติ้ล รัก แบม\n",
            "เติ้ล รัก ปอ\n",
            "เติ้ล รัก หวาน\n",
            "แตง รัก เติ้ล\n",
            "แตง รัก เบียร์\n",
            "แตง รัก แบม\n",
            "แตง รัก ปอ\n",
            "แตง รัก หวาน\n",
            "เบียร์ รัก เติ้ล\n",
            "เบียร์ รัก แตง\n",
            "เบียร์ รัก แบม\n",
            "เบียร์ รัก ปอ\n",
            "เบียร์ รัก หวาน\n",
            "แบม รัก เติ้ล\n",
            "แบม รัก แตง\n",
            "แบม รัก เบียร์\n",
            "แบม รัก ปอ\n",
            "แบม รัก หวาน\n",
            "ปอ รัก เติ้ล\n",
            "ปอ รัก แตง\n",
            "ปอ รัก เบียร์\n",
            "ปอ รัก แบม\n",
            "ปอ รัก หวาน\n",
            "หวาน รัก เติ้ล\n",
            "หวาน รัก แตง\n",
            "หวาน รัก เบียร์\n",
            "หวาน รัก แบม\n",
            "หวาน รัก ปอ\n"
          ],
          "name": "stdout"
        }
      ]
    },
    {
      "cell_type": "markdown",
      "metadata": {
        "id": "dOISMrcCX7ps"
      },
      "source": [
        "**==, !=,>=,<=,<,>**"
      ]
    },
    {
      "cell_type": "code",
      "metadata": {
        "colab": {
          "base_uri": "https://localhost:8080/"
        },
        "id": "ra1TAKkNX9iX",
        "outputId": "4f028b64-f602-4d44-dac1-deb9d436196c"
      },
      "source": [
        "'เตย' == 'แตง'"
      ],
      "execution_count": 35,
      "outputs": [
        {
          "output_type": "execute_result",
          "data": {
            "text/plain": [
              "False"
            ]
          },
          "metadata": {
            "tags": []
          },
          "execution_count": 35
        }
      ]
    },
    {
      "cell_type": "code",
      "metadata": {
        "colab": {
          "base_uri": "https://localhost:8080/"
        },
        "id": "PSCDdoh6YJ1O",
        "outputId": "22e8d28f-5e62-4d40-9098-149c59d47245"
      },
      "source": [
        "'เตย' != 'แตง'"
      ],
      "execution_count": 36,
      "outputs": [
        {
          "output_type": "execute_result",
          "data": {
            "text/plain": [
              "True"
            ]
          },
          "metadata": {
            "tags": []
          },
          "execution_count": 36
        }
      ]
    },
    {
      "cell_type": "markdown",
      "metadata": {
        "id": "CpdM0AgXYQMT"
      },
      "source": [
        "**หากหลังเงื่อนไข True ถูกต้องจะทำการ print ข้อความออกมาว่า Yes**"
      ]
    },
    {
      "cell_type": "code",
      "metadata": {
        "colab": {
          "base_uri": "https://localhost:8080/"
        },
        "id": "kFXrx70kYSU7",
        "outputId": "d862e386-c02e-4709-9b20-7660d72ec33a"
      },
      "source": [
        "if True:\r\n",
        "    print('Yes')"
      ],
      "execution_count": 37,
      "outputs": [
        {
          "output_type": "stream",
          "text": [
            "Yes\n"
          ],
          "name": "stdout"
        }
      ]
    },
    {
      "cell_type": "code",
      "metadata": {
        "id": "K5T1vCD4YXrA"
      },
      "source": [
        "if False:\r\n",
        "    print('No')"
      ],
      "execution_count": 38,
      "outputs": []
    },
    {
      "cell_type": "markdown",
      "metadata": {
        "id": "KQ53-4pCYc02"
      },
      "source": [
        "**หากหลังเงื่อนไข False ไม่ถูกต้องจะไม่ปริ้นข้อความใดๆออกมา**\r\n",
        "\r\n",
        "**ซึ่งจะต้องใช้เงื่อนไขนี้ จึงจะได้ปริ้นค่าเงื่อนไขนั้นออกมา ดังนี้**"
      ]
    },
    {
      "cell_type": "code",
      "metadata": {
        "colab": {
          "base_uri": "https://localhost:8080/"
        },
        "id": "ocZSDPlLYkDH",
        "outputId": "1af17dc1-abac-4a00-89b3-cf6f9a317652"
      },
      "source": [
        "if False:\r\n",
        "    print('Yes')\r\n",
        "else:\r\n",
        "    print('No')"
      ],
      "execution_count": 39,
      "outputs": [
        {
          "output_type": "stream",
          "text": [
            "No\n"
          ],
          "name": "stdout"
        }
      ]
    },
    {
      "cell_type": "markdown",
      "metadata": {
        "id": "oGPqILp8YrRl"
      },
      "source": [
        "# **HW4**\r\n",
        "\r\n",
        "**เขียน function ตัดเกรด โดยที่ input เป็นคะแนน(0-100) , output เป็นเกรด (F-A)**\r\n",
        "\r\n",
        "**วนลูปตัดเกรด input = [1,50,65,90,101,-5,49]**\r\n",
        "\r\n",
        "กำหนด\r\n",
        "  * ถ้าคะแนนอยู่ระหว่างมากกว่าหรือเท่ากับ  0  แต่น้อยกว่า 50 จะได้เกรด F\r\n",
        "  * ถ้าคะแนนอยู่ระหว่างมากกว่าหรือเท่ากับ 50 แต่น้อยกว่า 55 จะได้เกรด D\r\n",
        "  * ถ้าคะแนนอยู่ระหว่างมากกว่าหรือเท่ากับ 55 แต่น้อยกว่า 60 จะได้เกรด D+\r\n",
        "  * ถ้าคะแนนอยู่ระหว่างมากกว่าหรือเท่ากับ 60 แต่น้อยกว่า 65 จะได้เกรด C\r\n",
        "  * ถ้าคะแนนอยู่ระหว่างมากกว่าหรือเท่ากับ 65 แต่น้อยกว่า 70 จะได้เกรด C+\r\n",
        "  * ถ้าคะแนนอยู่ระหว่างมากกว่าหรือเท่ากับ 70 แต่น้อยกว่า 75 จะได้เกรด B\r\n",
        "  * ถ้าคะแนนอยู่ระหว่างมากกว่าหรือเท่ากับ 75 แต่น้อยกว่า 80 จะได้เกรด B+\r\n",
        "  * ถ้าคะแนนอยู่ระหว่างมากกว่าหรือเท่ากับ 80  จะได้เกรด A\r\n",
        "  * แต่ว่าค่าคะแนนจะต้องไม่ต่ำกว่า 0 และมากกว่า 100 ไม่งั้นจะเกิด error\r\n"
      ]
    }
  ]
}