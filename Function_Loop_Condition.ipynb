{
  "nbformat": 4,
  "nbformat_minor": 0,
  "metadata": {
    "colab": {
      "name": "Function_Loop_Condition.ipynb",
      "provenance": [],
      "authorship_tag": "ABX9TyMvvA6IliVBC4aspEnGnJ5X",
      "include_colab_link": true
    },
    "kernelspec": {
      "name": "python3",
      "display_name": "Python 3"
    }
  },
  "cells": [
    {
      "cell_type": "markdown",
      "metadata": {
        "id": "view-in-github",
        "colab_type": "text"
      },
      "source": [
        "<a href=\"https://colab.research.google.com/github/paweenatoei/data_viz/blob/main/Function_Loop_Condition.ipynb\" target=\"_parent\"><img src=\"https://colab.research.google.com/assets/colab-badge.svg\" alt=\"Open In Colab\"/></a>"
      ]
    },
    {
      "cell_type": "code",
      "metadata": {
        "colab": {
          "base_uri": "https://localhost:8080/"
        },
        "id": "oFhRhI5tcoyg",
        "outputId": "7b27bda2-ab59-4578-b812-9c545e6ac9c7"
      },
      "source": [
        "name = 'ปวีณา'\r\n",
        "surname = 'ตรีทศ'\r\n",
        "ID = '613021095-3'\r\n",
        "\r\n",
        "b= f'ชื่อ {name} นามสกุล {surname} รหัส {ID}'\r\n",
        "print(b)"
      ],
      "execution_count": 1,
      "outputs": [
        {
          "output_type": "stream",
          "text": [
            "ชื่อ ปวีณา นามสกุล ตรีทศ รหัส 613021095-3\n"
          ],
          "name": "stdout"
        }
      ]
    },
    {
      "cell_type": "markdown",
      "metadata": {
        "id": "MiyRnYgJfcTz"
      },
      "source": [
        "#Function"
      ]
    },
    {
      "cell_type": "markdown",
      "metadata": {
        "id": "E0Xld9ODgw6T"
      },
      "source": [
        "ทำหน้าที่รับ input มาประมวลผลออกเป็น output\r\n",
        "\r\n",
        "f(x) = y โดยที่ x คือ input \r\n",
        "\r\n",
        "y คือ output"
      ]
    },
    {
      "cell_type": "markdown",
      "metadata": {
        "id": "UZv9g5rwhH4I"
      },
      "source": [
        "# def คือ การกำหนดฟังก์ชัน"
      ]
    },
    {
      "cell_type": "markdown",
      "metadata": {
        "id": "nV4XbqIZhidQ"
      },
      "source": [
        "\r\n",
        "```python\r\n",
        "     def function_name(_Input_) :\r\n",
        "        do_something with _Input_ to get _Output_\r\n",
        "        return\r\n",
        "```\r\n",
        "\r\n",
        "\r\n",
        "\r\n",
        "\r\n",
        "\r\n",
        "\r\n",
        "\r\n"
      ]
    },
    {
      "cell_type": "markdown",
      "metadata": {
        "id": "_jHUvHru3pjc"
      },
      "source": [
        "backtick (`) ==> กด ~ ค้าง, alt - 9>6 (full keyboard with number)\r\n",
        "\r\n",
        "tilde (~)\r\n",
        "\r\n",
        "curly bracket ({ })\r\n",
        "\r\n",
        "square bracket ([ ])"
      ]
    },
    {
      "cell_type": "markdown",
      "metadata": {
        "id": "w3HDXLOSmFRS"
      },
      "source": [
        "function มีส่วนสำคัญ 4 ส่วน\r\n",
        "\r\n",
        "1.   บอก python ว่าเราจะเขียนฟังก์ชั่น ชื่ออะไร  def function_name(): (ขาดไม่ได้)\r\n",
        "2.   กำหนดตัวแปรที่จะเป็น input  _Input_ (ขาดได้)\r\n",
        "3.   ส่วนประมวลผล do_something with _Input_ to get _Output_ (ขาดไม่ได้)\r\n",
        "4.   ส่วน output return _Output_(ขาดได้)\r\n",
        "\r\n"
      ]
    },
    {
      "cell_type": "markdown",
      "metadata": {
        "id": "-_jC7R2pknAY"
      },
      "source": [
        "ตัวอย่างการเขียน normal function"
      ]
    },
    {
      "cell_type": "code",
      "metadata": {
        "id": "smDN0M50kuUo"
      },
      "source": [
        "def print_name(surname,ID,name) :\r\n",
        "  st = f'ชื่อ {name} นามสกุล {surname} รหัส {ID}'\r\n",
        "  return st"
      ],
      "execution_count": 3,
      "outputs": []
    },
    {
      "cell_type": "code",
      "metadata": {
        "colab": {
          "base_uri": "https://localhost:8080/",
          "height": 38
        },
        "id": "31A-Ae6OhN_-",
        "outputId": "efd05edd-5e51-4f27-f91b-3dc65d12c5fc"
      },
      "source": [
        "print_name('ตรีทศ','6130210953','ปวีณา')"
      ],
      "execution_count": 5,
      "outputs": [
        {
          "output_type": "execute_result",
          "data": {
            "application/vnd.google.colaboratory.intrinsic+json": {
              "type": "string"
            },
            "text/plain": [
              "'ชื่อ ปวีณา นามสกุล ตรีทศ รหัส 6130210953'"
            ]
          },
          "metadata": {
            "tags": []
          },
          "execution_count": 5
        }
      ]
    },
    {
      "cell_type": "code",
      "metadata": {
        "colab": {
          "base_uri": "https://localhost:8080/"
        },
        "id": "HZDjF7a5llt9",
        "outputId": "ddd698a6-ddcd-433e-987e-405ae3814dc0"
      },
      "source": [
        "print(print_name(name='ปวีณา',surname='ตรีทศ',ID='6130210953'))"
      ],
      "execution_count": 6,
      "outputs": [
        {
          "output_type": "stream",
          "text": [
            "ชื่อ ปวีณา นามสกุล ตรีทศ รหัส 6130210953\n"
          ],
          "name": "stdout"
        }
      ]
    },
    {
      "cell_type": "markdown",
      "metadata": {
        "id": "7V3vcyI1pbn3"
      },
      "source": [
        "ใช้ เว้นวรรค (indent) เพื่อบอกขอบเขตของโปรแกรม"
      ]
    },
    {
      "cell_type": "markdown",
      "metadata": {
        "id": "oSmTzearnpeJ"
      },
      "source": [
        "สามารถเพิ่มคำสั่งเข้าไปในฟังก์ชันได้อีก โดยการเปลี่ยนคำสั่ง return เป็น print() เช่น ตัวอย่างดังนี้ ได้ทำการเพิ่ม st2 ="
      ]
    },
    {
      "cell_type": "code",
      "metadata": {
        "id": "9XlHGzyLpDcq"
      },
      "source": [
        "def print_name2(name,surname,ID) :\r\n",
        "     st2 = f'ชื่อ {name} นามสกุล {surname} รหัส {ID}'\r\n",
        "     print(st2)"
      ],
      "execution_count": 32,
      "outputs": []
    },
    {
      "cell_type": "code",
      "metadata": {
        "colab": {
          "base_uri": "https://localhost:8080/"
        },
        "id": "9FbI7BjOqIH8",
        "outputId": "6123fa53-1e93-4ae3-9bb6-a876d973e387"
      },
      "source": [
        "print_name2(name='ปวีณา',surname='ตรีทศ',ID=6130210953)"
      ],
      "execution_count": 22,
      "outputs": [
        {
          "output_type": "stream",
          "text": [
            "ชื่อ ปวีณา นามสกุล ตรีทศ รหัส 6130210953\n"
          ],
          "name": "stdout"
        }
      ]
    },
    {
      "cell_type": "markdown",
      "metadata": {
        "id": "ql4PKO5Lq3_6"
      },
      "source": [
        "ในฟังก์ชันไม่จำเป็นต้องมี Input"
      ]
    },
    {
      "cell_type": "code",
      "metadata": {
        "id": "p9CgCl61q_0R"
      },
      "source": [
        "def Pi() :\r\n",
        "     return 3.14159265359"
      ],
      "execution_count": 15,
      "outputs": []
    },
    {
      "cell_type": "markdown",
      "metadata": {
        "id": "qz9ycpuxsAPX"
      },
      "source": [
        "**สามารถกำหนดค่า default ให้กับฟังก์ชันได้**\r\n",
        "\r\n",
        "input ของ function ใน python มีสองแบบ input ที่จำเป็นต้องใส่ กับ input ที่ไม่จำเป็นต้องใส่ (มีค่า default)\r\n",
        "เราต้องเรียง input ที่จำเป็นต้องใส่ขึ้นก่อน"
      ]
    },
    {
      "cell_type": "code",
      "metadata": {
        "id": "65ZNip0qstin"
      },
      "source": [
        "def print_2lines_default(name,surname,ID,grade='A') :\r\n",
        "  st = f'ชื่อ {name} นามสกุล {surname} รหัส {ID}'\r\n",
        "  print (st)\r\n",
        "  st2=f'เกรดวิชา Data Viz >>> {grade}'\r\n",
        "  print(st2)"
      ],
      "execution_count": 30,
      "outputs": []
    },
    {
      "cell_type": "code",
      "metadata": {
        "colab": {
          "base_uri": "https://localhost:8080/"
        },
        "id": "bK7SFop5vJ5G",
        "outputId": "42676528-5e19-43d6-c3f0-6d4e418d43fb"
      },
      "source": [
        "print_2lines_default('ปวีณา','ตรีทศ','6130210953')"
      ],
      "execution_count": 31,
      "outputs": [
        {
          "output_type": "stream",
          "text": [
            "ชื่อ ปวีณา นามสกุล ตรีทศ รหัส 6130210953\n",
            "เกรดวิชา Data Viz >>> A\n"
          ],
          "name": "stdout"
        }
      ]
    },
    {
      "cell_type": "code",
      "metadata": {
        "colab": {
          "base_uri": "https://localhost:8080/"
        },
        "id": "lXegqMes4MuH",
        "outputId": "23eec9c0-3ccd-4a33-e70e-e7ef95380912"
      },
      "source": [
        "print_2lines_default('ปวีณา','ตรีทศ','6130210953','A')"
      ],
      "execution_count": 33,
      "outputs": [
        {
          "output_type": "stream",
          "text": [
            "ชื่อ ปวีณา นามสกุล ตรีทศ รหัส 6130210953\n",
            "เกรดวิชา Data Viz >>> A\n"
          ],
          "name": "stdout"
        }
      ]
    },
    {
      "cell_type": "markdown",
      "metadata": {
        "id": "Zbcn4f780bBB"
      },
      "source": [
        "#LOOP คือ การวนซ้ำ"
      ]
    },
    {
      "cell_type": "markdown",
      "metadata": {
        "id": "NQ778mhG0zU5"
      },
      "source": [
        "for เป็นคำที่ใช้บอก python ว่ากำลังเขียน loop โดย for จะวนดึงสมาชิกจาก listA มาทำ process do_something"
      ]
    },
    {
      "cell_type": "markdown",
      "metadata": {
        "id": "XQPWUiEO4rxk"
      },
      "source": [
        "\r\n",
        "```\r\n",
        "for each_member in listA :\r\n",
        "        do_something\r\n",
        "```"
      ]
    },
    {
      "cell_type": "markdown",
      "metadata": {
        "id": "sJsSilQP5Gb0"
      },
      "source": [
        "**คำสั่ง for เป็นคำสั่งวนซ้ำที่ใช้ควบคุมการทำงานซ้ำๆ ในจำนวนรอบที่แน่นอน**"
      ]
    },
    {
      "cell_type": "code",
      "metadata": {
        "colab": {
          "base_uri": "https://localhost:8080/"
        },
        "id": "K17L66PM0mFM",
        "outputId": "ba52af4b-9c97-472a-e79e-5dbea45992df"
      },
      "source": [
        "for i in [1,2,3] :\r\n",
        "    o = i**2\r\n",
        "    print (f'this member = {i} after process = {o}')"
      ],
      "execution_count": 34,
      "outputs": [
        {
          "output_type": "stream",
          "text": [
            "this member = 1 after process = 1\n",
            "this member = 2 after process = 4\n",
            "this member = 3 after process = 9\n"
          ],
          "name": "stdout"
        }
      ]
    }
  ]
}