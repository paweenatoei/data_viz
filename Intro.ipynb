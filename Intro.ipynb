{
  "nbformat": 4,
  "nbformat_minor": 0,
  "metadata": {
    "colab": {
      "name": "Untitled7.ipynb",
      "provenance": [],
      "authorship_tag": "ABX9TyMbxTOP2g2ZDPdLJdroVQwU",
      "include_colab_link": true
    },
    "kernelspec": {
      "name": "python3",
      "display_name": "Python 3"
    }
  },
  "cells": [
    {
      "cell_type": "markdown",
      "metadata": {
        "id": "view-in-github",
        "colab_type": "text"
      },
      "source": [
        "<a href=\"https://colab.research.google.com/github/paweenatoei/data_viz/blob/main/Intro.ipynb\" target=\"_parent\"><img src=\"https://colab.research.google.com/assets/colab-badge.svg\" alt=\"Open In Colab\"/></a>"
      ]
    },
    {
      "cell_type": "markdown",
      "metadata": {
        "id": "sCzjG3TrNXEz"
      },
      "source": [
        "ปวีณา ตรีทศ 6130210953"
      ]
    },
    {
      "cell_type": "markdown",
      "metadata": {
        "id": "ACSTQ1S3Nizp"
      },
      "source": [
        "ภาษา Markdown\n",
        "\n",
        "# Markdown\n",
        "## Markdown\n",
        "\n",
        "~strike~"
      ]
    },
    {
      "cell_type": "code",
      "metadata": {
        "colab": {
          "base_uri": "https://localhost:8080/"
        },
        "id": "D2qkp0gVOmBw",
        "outputId": "f923990d-0096-44f0-ab91-7cf674c7d19e"
      },
      "source": [
        "print('ปวีณา')"
      ],
      "execution_count": 1,
      "outputs": [
        {
          "output_type": "stream",
          "text": [
            "ปวีณา\n"
          ],
          "name": "stdout"
        }
      ]
    }
  ]
}